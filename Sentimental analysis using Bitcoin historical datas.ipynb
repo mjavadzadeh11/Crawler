{
  "nbformat": 4,
  "nbformat_minor": 0,
  "metadata": {
    "colab": {
      "name": "Copy of GoogleNews.ipynb",
      "provenance": [],
      "collapsed_sections": [],
      "authorship_tag": "ABX9TyPRhB6oG5cGVGPtSjTUeRKW",
      "include_colab_link": true
    },
    "kernelspec": {
      "name": "python3",
      "display_name": "Python 3"
    },
    "language_info": {
      "name": "python"
    }
  },
  "cells": [
    {
      "cell_type": "markdown",
      "metadata": {
        "id": "view-in-github",
        "colab_type": "text"
      },
      "source": [
        "<a href=\"https://colab.research.google.com/github/mjavadzadeh11/Crawler/blob/master/Sentimental%20analysis%20using%20Bitcoin%20historical%20datas.ipynb\" target=\"_parent\"><img src=\"https://colab.research.google.com/assets/colab-badge.svg\" alt=\"Open In Colab\"/></a>"
      ]
    },
    {
      "cell_type": "code",
      "metadata": {
        "id": "6rE-gdVKove3"
      },
      "source": [
        "!pip install GoogleNews\n",
        "!pip install newspaper3k\n",
        "#!pip install vaderSentiment;"
      ],
      "execution_count": null,
      "outputs": []
    },
    {
      "cell_type": "code",
      "metadata": {
        "id": "sUBNvwp97vRC"
      },
      "source": [
        "!pip install googleanalytics\n"
      ],
      "execution_count": null,
      "outputs": []
    },
    {
      "cell_type": "code",
      "metadata": {
        "id": "NW49OtAynGic"
      },
      "source": [
        "import pandas as pd\n",
        "import datetime as dt\n",
        "import json\n",
        "import matplotlib.pyplot as plt\n",
        "from GoogleNews import GoogleNews\n",
        "from newspaper import Article\n",
        "import requests\n",
        "import nltk\n",
        "nltk.download('punkt')\n",
        "from textblob import TextBlob\n",
        "#from vaderSentiment.vaderSentiment import SentimentIntensityAnalyzer"
      ],
      "execution_count": null,
      "outputs": []
    },
    {
      "cell_type": "code",
      "metadata": {
        "id": "yTMaCGzLoq3G"
      },
      "source": [
        "googlenews = GoogleNews(period='30d')\n",
        "#googlenews = GoogleNews(start='11/04/2021',end='12/04/2021')\n",
        "googlenews.search('Iran')\n",
        "googlenews.get_page(30)\n",
        "Result=googlenews.results()"
      ],
      "execution_count": 153,
      "outputs": []
    },
    {
      "cell_type": "code",
      "metadata": {
        "id": "MMRRMCpEcaf8"
      },
      "source": [
        "def get_news(keyword , period, NumOfPages):\n",
        "#  ''' keyword is something that will be searched in google , period is the period of search\n",
        "#  and NumOfPages is how many pages def should search'''\n",
        "  googlenews = GoogleNews(period='30d')\n",
        "  googlenews.search('Finance')\n",
        "  for i in range(2,NumOfPages):\n",
        "    googlenews.getpage(i)\n",
        "    result=googlenews.result()\n",
        "    df=pd.DataFrame(result)\n",
        "  return df\n",
        "\n",
        "df=get_news('Bitcoin', '30d',30)"
      ],
      "execution_count": 155,
      "outputs": []
    },
    {
      "cell_type": "code",
      "metadata": {
        "id": "y-PFA85OqyZl"
      },
      "source": [
        "#df.drop(columns=['datetime'], inplace=True)\n",
        "df.drop(columns=['img'], inplace=True)"
      ],
      "execution_count": 156,
      "outputs": []
    },
    {
      "cell_type": "code",
      "metadata": {
        "id": "2IShaHFxNEq9"
      },
      "source": [
        "#filtering by media\n",
        "filt = df['media']== 'Al Jazeera'\n",
        "df[filt]"
      ],
      "execution_count": null,
      "outputs": []
    },
    {
      "cell_type": "code",
      "metadata": {
        "id": "CJiM7fwVN2V4"
      },
      "source": [
        "#grouping by media\n",
        "media_gp= df.groupby(['media'])\n",
        "media_gp ['link'].value_counts() "
      ],
      "execution_count": null,
      "outputs": []
    },
    {
      "cell_type": "code",
      "metadata": {
        "id": "cqiiNofXNzmA"
      },
      "source": [
        "\n",
        "for index in range(df.shape[0]):\n",
        "  try:\n",
        "    article=Article(df.loc[index,'link'])\n",
        "    article.download()\n",
        "    article.html\n",
        "    article.parse()\n",
        "    article.nlp()\n",
        "    \n",
        "    \n",
        "    df.loc[index,'Context'] = article.text\n",
        "    df.loc[index, 'Summary'] = article.summary\n",
        "    df.loc[index, 'Keywords'] = ' '.join(article.keywords)\n",
        "  except:\n",
        "    df.loc[index,'Context'] = 'Not able to recieve this news'\n",
        "    df.loc[index, 'Summary'] = 'Could not summarize the context'\n",
        "    df.loc[index, 'Keywords'] = \"No keywords founded\"\n",
        "    \n",
        "\n",
        "#df['Context'] = news_context"
      ],
      "execution_count": 157,
      "outputs": []
    },
    {
      "cell_type": "code",
      "metadata": {
        "id": "eRugw6ZjlbCa"
      },
      "source": [
        "df.loc[:,'datetime']=df.loc[:,'datetime'].apply(lambda x: x.date())"
      ],
      "execution_count": 102,
      "outputs": []
    },
    {
      "cell_type": "code",
      "metadata": {
        "id": "X_QKYR-ad_ji"
      },
      "source": [
        "\n",
        "for i in range(df.shape[0]):\n",
        "  if type(df.loc[i,'datetime']) == pd._libs.tslibs.nattype.NaTType:\n",
        "    if df.loc[i,'date'].split(' ')[1]=='mins':\n",
        "      df.loc[i,'datetime'] = dt.date.today()\n",
        "    elif df.loc[i,'date'].split(' ')[1]=='day':\n",
        "      df.loc[i,'datetime'] = dt.date.today() - dt.timedelta(1)\n",
        "    elif df.loc[i,'date'].split(' ')[1]=='days':\n",
        "      df.loc[i,'datetime'] = dt.date.today() - dt.timedelta(df.loc[i,'date'].split(' ')[0])\n"
      ],
      "execution_count": 103,
      "outputs": []
    },
    {
      "cell_type": "code",
      "metadata": {
        "id": "HzS5eTGMjQyi"
      },
      "source": [
        "df.set_index('datetime', inplace=True)"
      ],
      "execution_count": 104,
      "outputs": []
    },
    {
      "cell_type": "code",
      "metadata": {
        "id": "iFM5M7Jji4lg"
      },
      "source": [
        "df.head()"
      ],
      "execution_count": null,
      "outputs": []
    },
    {
      "cell_type": "code",
      "metadata": {
        "id": "EBZVSbnttFWH"
      },
      "source": [
        "def get_polarity(text):\n",
        "  return TextBlob(text).sentiment.polarity"
      ],
      "execution_count": 106,
      "outputs": []
    },
    {
      "cell_type": "code",
      "metadata": {
        "id": "qfz2uWeStmma"
      },
      "source": [
        "title_polarity=df.loc[:,'title'].apply(get_polarity)\n",
        "desc_polarity=df.loc[:,'desc'].apply(get_polarity)\n",
        "df['Polarity']=(title_polarity+desc_polarity)/2"
      ],
      "execution_count": 107,
      "outputs": []
    },
    {
      "cell_type": "code",
      "metadata": {
        "id": "RugGSC8_uQVc"
      },
      "source": [
        "polarity_avg = df.groupby(['datetime']).mean()\n",
        "polarity_avg"
      ],
      "execution_count": null,
      "outputs": []
    },
    {
      "cell_type": "code",
      "metadata": {
        "id": "vYm7iaM97qUg"
      },
      "source": [
        "#getting candel datas from binance\n",
        "def get_binance_datas (symbol, interval , startTime , endTime):\n",
        "    ''' symbol=\"ETHUSDT or BTCUSDT , ...\" , interval=\"1h,4h,8h,12h,1d\", times = dt.datetime(2020,1,1) '''\n",
        "    \n",
        "    url = \"https://api.binance.com/api/v3/klines\"\n",
        "    startTime= str(int(startTime.timestamp()*1000))\n",
        "    endTime= str(int(endTime.timestamp()*1000))\n",
        "    limit =\"1000\"\n",
        "    req_p = {\"symbol\" : symbol , \"interval\": interval , 'startTime':startTime , 'endTime':endTime , 'limit':limit}\n",
        "    response = pd.DataFrame(json.loads(requests.get(url , params = req_p).text))\n",
        "    if len(response.index)==0 :\n",
        "        return None\n",
        "    response=response.iloc[:,0:6]\n",
        "    response.columns=['Datetime' , 'Open' , 'High' , 'Low' , 'Close' , 'Volume' ]\n",
        "    response['Datetime'] = [dt.datetime.fromtimestamp(x/1000) for x in response['Datetime']]\n",
        "    response.set_index(['Datetime'] , inplace=True)\n",
        "    return response\n",
        "    "
      ],
      "execution_count": 111,
      "outputs": []
    },
    {
      "cell_type": "code",
      "metadata": {
        "id": "kkabusKp7vaN"
      },
      "source": [
        "df1=get_binance_datas('BTCUSDT' , '1d' , dt.datetime (2021,11,23) , dt.datetime(2021,12,7))"
      ],
      "execution_count": 121,
      "outputs": []
    },
    {
      "cell_type": "code",
      "metadata": {
        "id": "evE4TEpk9DZN"
      },
      "source": [
        "\n",
        "df1['Mean'] = (df1.loc[:,'Open'].apply(float) + df1.loc[:,'Close'].apply(float)) / 2"
      ],
      "execution_count": 144,
      "outputs": []
    },
    {
      "cell_type": "code",
      "metadata": {
        "colab": {
          "base_uri": "https://localhost:8080/",
          "height": 633
        },
        "id": "MPucGNZf_3wk",
        "outputId": "cd52e9bf-2e1e-47e1-a9fc-8819c7ac43fd"
      },
      "source": [
        "#plot 1 BTC daily chart\n",
        "plt.figure(figsize=(12.33 , 10))\n",
        "plt.subplot(2, 1, 1)\n",
        "plt.plot(df1.index ,df1.Mean)\n",
        "plt.title('BTC chart ')\n",
        "plt.xlabel('Date')\n",
        "plt.ylabel('Price(usdt)')\n",
        "\n",
        "# plot 2 news impact\n",
        "\n",
        "plt.figure(figsize=(12.33 , 10))\n",
        "plt.subplot(2, 1, 2)\n",
        "plt.plot(polarity_avg.index ,polarity_avg)\n",
        "plt.title('polarity of news based on date')\n",
        "plt.xlabel('Date')\n",
        "plt.ylabel('Polarity')\n",
        "plt.show()"
      ],
      "execution_count": 152,
      "outputs": [
        {
          "output_type": "display_data",
          "data": {
            "image/png": "[encoded data removed]",
            "text/plain": [
              "<Figure size 887.76x720 with 1 Axes>"
            ]
          },
          "metadata": {
            "needs_background": "light"
          }
        },
        {
          "output_type": "display_data",
          "data": {
            "image/png": "[encoded data removed]",
            "text/plain": [
              "<Figure size 887.76x720 with 1 Axes>"
            ]
          },
          "metadata": {
            "needs_background": "light"
          }
        }
      ]
    }
  ]
}