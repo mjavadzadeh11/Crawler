{
  "nbformat": 4,
  "nbformat_minor": 0,
  "metadata": {
    "colab": {
      "name": "GoogleNews.ipynb",
      "provenance": [],
      "collapsed_sections": [],
      "authorship_tag": "ABX9TyOD7YJSEor+zxaCqFOrTmEz",
      "include_colab_link": true
    },
    "kernelspec": {
      "name": "python3",
      "display_name": "Python 3"
    },
    "language_info": {
      "name": "python"
    }
  },
  "cells": [
    {
      "cell_type": "markdown",
      "metadata": {
        "id": "view-in-github",
        "colab_type": "text"
      },
      "source": [
        "<a href=\"https://colab.research.google.com/github/mjavadzadeh11/Crawler/blob/master/GoogleNews.ipynb\" target=\"_parent\"><img src=\"https://colab.research.google.com/assets/colab-badge.svg\" alt=\"Open In Colab\"/></a>"
      ]
    },
    {
      "cell_type": "code",
      "metadata": {
        "id": "6rE-gdVKove3"
      },
      "source": [
        "!pip install GoogleNews\n",
        "!pip install newspaper3k"
      ],
      "execution_count": null,
      "outputs": []
    },
    {
      "cell_type": "code",
      "metadata": {
        "id": "NW49OtAynGic"
      },
      "source": [
        "import pandas as pd\n",
        "from GoogleNews import GoogleNews\n",
        "from newspaper import Article\n"
      ],
      "execution_count": 3,
      "outputs": []
    },
    {
      "cell_type": "code",
      "metadata": {
        "id": "yTMaCGzLoq3G"
      },
      "source": [
        "googlenews = GoogleNews(start='11/04/2021',end='12/04/2021')\n",
        "googlenews.search('Omicron')\n",
        "\n",
        "#googlenews = GoogleNews(period='7d')\n",
        "googlenews.get_page(30)\n",
        "Result=googlenews.results()"
      ],
      "execution_count": 4,
      "outputs": []
    },
    {
      "cell_type": "code",
      "metadata": {
        "id": "U-nSdklCHEOE"
      },
      "source": [
        "df=pd.DataFrame(Result)\n",
        "df.drop(columns=['img'], inplace=True)"
      ],
      "execution_count": 5,
      "outputs": []
    },
    {
      "cell_type": "code",
      "metadata": {
        "colab": {
          "base_uri": "https://localhost:8080/",
          "height": 147
        },
        "id": "9_1wQQVFhyiv",
        "outputId": "52b8edad-81d9-4e14-9b74-d84251b84234"
      },
      "source": [
        "filt = df['media']== 'The Guardian'\n",
        "df[filt]"
      ],
      "execution_count": null,
      "outputs": [
        {
          "output_type": "execute_result",
          "data": {
            "text/html": [
              "<div>\n",
              "<style scoped>\n",
              "    .dataframe tbody tr th:only-of-type {\n",
              "        vertical-align: middle;\n",
              "    }\n",
              "\n",
              "    .dataframe tbody tr th {\n",
              "        vertical-align: top;\n",
              "    }\n",
              "\n",
              "    .dataframe thead th {\n",
              "        text-align: right;\n",
              "    }\n",
              "</style>\n",
              "<table border=\"1\" class=\"dataframe\">\n",
              "  <thead>\n",
              "    <tr style=\"text-align: right;\">\n",
              "      <th></th>\n",
              "      <th>title</th>\n",
              "      <th>media</th>\n",
              "      <th>date</th>\n",
              "      <th>datetime</th>\n",
              "      <th>desc</th>\n",
              "      <th>link</th>\n",
              "    </tr>\n",
              "  </thead>\n",
              "  <tbody>\n",
              "    <tr>\n",
              "      <th>6</th>\n",
              "      <td>Florida’s governor celebrated his anti-mandate...</td>\n",
              "      <td>The Guardian</td>\n",
              "      <td>3 hours ago</td>\n",
              "      <td>2021-12-04 10:06:49.561832</td>\n",
              "      <td>Ron DeSantis struck 'a blow for freedom' with ...</td>\n",
              "      <td>https://www.theguardian.com/us-news/2021/dec/0...</td>\n",
              "    </tr>\n",
              "    <tr>\n",
              "      <th>7</th>\n",
              "      <td>Sage scientists seek balanced UK response to O...</td>\n",
              "      <td>The Guardian</td>\n",
              "      <td>3 hours ago</td>\n",
              "      <td>2021-12-04 10:06:49.563737</td>\n",
              "      <td>With Covid variant danger unclear, advisers sa...</td>\n",
              "      <td>https://www.theguardian.com/politics/2021/dec/...</td>\n",
              "    </tr>\n",
              "  </tbody>\n",
              "</table>\n",
              "</div>"
            ],
            "text/plain": [
              "                                               title  ...                                               link\n",
              "6  Florida’s governor celebrated his anti-mandate...  ...  https://www.theguardian.com/us-news/2021/dec/0...\n",
              "7  Sage scientists seek balanced UK response to O...  ...  https://www.theguardian.com/politics/2021/dec/...\n",
              "\n",
              "[2 rows x 6 columns]"
            ]
          },
          "metadata": {},
          "execution_count": 104
        }
      ]
    },
    {
      "cell_type": "code",
      "metadata": {
        "id": "2IShaHFxNEq9"
      },
      "source": [
        "#filtering by media\n",
        "filt = df['media']== 'Al Jazeera'\n",
        "df[filt]"
      ],
      "execution_count": null,
      "outputs": []
    },
    {
      "cell_type": "code",
      "metadata": {
        "id": "LXa6seYuaFA2"
      },
      "source": [
        "df.iloc[0,0]"
      ],
      "execution_count": null,
      "outputs": []
    },
    {
      "cell_type": "code",
      "metadata": {
        "id": "CJiM7fwVN2V4"
      },
      "source": [
        "#grouping by media\n",
        "media_gp= df.groupby(['media'])\n",
        "media_gp ['link'].value_counts() "
      ],
      "execution_count": null,
      "outputs": []
    },
    {
      "cell_type": "code",
      "metadata": {
        "id": "cqiiNofXNzmA"
      },
      "source": [
        "#Crawling through links:\n",
        "from bs4 import BeautifulSoup\n",
        "import requests"
      ],
      "execution_count": 6,
      "outputs": []
    },
    {
      "cell_type": "code",
      "metadata": {
        "id": "Sxl_UyYNKhNt"
      },
      "source": [
        "filt= df['media'] == 'The Guardian'\n",
        "\n",
        "for url in df.loc[filt,'link'].values:\n",
        "  source = requests.get(url).text\n",
        "  cf = BeautifulSoup(source, 'lxml')\n",
        "  text=[]\n",
        "  for context in cf.find_all('p', class_='dcr-o5gy41'):\n",
        "    text.append(context.text)\n",
        "  text = ' '.join(text)\n",
        "\n",
        "  for i in range(df.shape[0]):\n",
        "    if df.loc[i,'media']=='The Guardian':\n",
        "      df.loc[i,'text'] = text\n",
        "    else:\n",
        "      df.loc[i,'text'] = None\n",
        "\n"
      ],
      "execution_count": 7,
      "outputs": []
    },
    {
      "cell_type": "code",
      "metadata": {
        "id": "tcYKOfUZgmes"
      },
      "source": [
        "df"
      ],
      "execution_count": null,
      "outputs": []
    },
    {
      "cell_type": "code",
      "metadata": {
        "id": "VyqZTt1VZvEz"
      },
      "source": [
        "!pip install vaderSentiment"
      ],
      "execution_count": null,
      "outputs": []
    },
    {
      "cell_type": "code",
      "metadata": {
        "id": "Ljjrn38xUBnc"
      },
      "source": [
        "# sentiment analysis     # !pip install vaderSentiment\n",
        "from vaderSentiment.vaderSentiment import SentimentIntensityAnalyzer\n"
      ],
      "execution_count": 10,
      "outputs": []
    },
    {
      "cell_type": "code",
      "metadata": {
        "id": "rh_bCUg6Z0IQ"
      },
      "source": [
        "Analyzer = SentimentIntensityAnalyzer()\n",
        "negative=[]\n",
        "netrual=[]\n",
        "positive=[]\n",
        "for i in range(df.shape[0]):\n",
        "  title = df.iloc[i,0]\n",
        "  desc\t = df.iloc[i,4]\n",
        "  title_analyzer = Analyzer.polarity_scores(title)\n",
        "  caption_analyzer = Analyzer.polarity_scores(desc)\n",
        "  negative.append(((title_analyzer['neg']) + (caption_analyzer['neg']))/2)\n",
        "  positive.append(((title_analyzer['pos']) + (caption_analyzer['pos']))/2)\n",
        "  netrual.append(((title_analyzer['neu']) + (caption_analyzer['neu']))/2)\n",
        "\n",
        "df['Negative']= negative\n",
        "df['Positive']= positive\n",
        "df['Netrual'] = netrual"
      ],
      "execution_count": 11,
      "outputs": []
    },
    {
      "cell_type": "code",
      "metadata": {
        "id": "SjRvRj41aSuZ"
      },
      "source": [
        "df.to_csv('news.csv')\n"
      ],
      "execution_count": 12,
      "outputs": []
    },
    {
      "cell_type": "code",
      "metadata": {
        "id": "QvThMiY3iz2-"
      },
      "source": [
        ""
      ],
      "execution_count": null,
      "outputs": []
    },
    {
      "cell_type": "code",
      "metadata": {
        "id": "OyqanRMsd8js"
      },
      "source": [
        "df.nlargest(5,['Negative'])"
      ],
      "execution_count": null,
      "outputs": []
    }
  ]
}