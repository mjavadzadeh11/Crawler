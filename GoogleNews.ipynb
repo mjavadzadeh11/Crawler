{
  "nbformat": 4,
  "nbformat_minor": 0,
  "metadata": {
    "colab": {
      "name": "Copy of GoogleNews.ipynb",
      "provenance": [],
      "collapsed_sections": [],
      "authorship_tag": "ABX9TyPPPwwZ1Nj/0tt1QcF7KIS1",
      "include_colab_link": true
    },
    "kernelspec": {
      "name": "python3",
      "display_name": "Python 3"
    },
    "language_info": {
      "name": "python"
    }
  },
  "cells": [
    {
      "cell_type": "markdown",
      "metadata": {
        "id": "view-in-github",
        "colab_type": "text"
      },
      "source": [
        "<a href=\"https://colab.research.google.com/github/mjavadzadeh11/Crawler/blob/master/GoogleNews.ipynb\" target=\"_parent\"><img src=\"https://colab.research.google.com/assets/colab-badge.svg\" alt=\"Open In Colab\"/></a>"
      ]
    },
    {
      "cell_type": "code",
      "metadata": {
        "id": "6rE-gdVKove3"
      },
      "source": [
        "!pip install GoogleNews\n",
        "!pip install newspaper3k\n",
        "!pip install vaderSentiment;"
      ],
      "execution_count": null,
      "outputs": []
    },
    {
      "cell_type": "code",
      "metadata": {
        "id": "sUBNvwp97vRC"
      },
      "source": [
        "!pip install googleanalytics\n"
      ],
      "execution_count": null,
      "outputs": []
    },
    {
      "cell_type": "code",
      "metadata": {
        "id": "NW49OtAynGic"
      },
      "source": [
        "import pandas as pd\n",
        "from GoogleNews import GoogleNews\n",
        "from newspaper import Article\n",
        "import requests\n",
        "import nltk\n",
        "nltk.download('punkt')\n",
        "from vaderSentiment.vaderSentiment import SentimentIntensityAnalyzer"
      ],
      "execution_count": null,
      "outputs": []
    },
    {
      "cell_type": "code",
      "metadata": {
        "id": "vhL0M_r671Z6"
      },
      "source": [
        "import googleanalytics"
      ],
      "execution_count": null,
      "outputs": []
    },
    {
      "cell_type": "code",
      "metadata": {
        "id": "yTMaCGzLoq3G"
      },
      "source": [
        "googlenews = GoogleNews(period='30d')\n",
        "#googlenews = GoogleNews(start='11/04/2021',end='12/04/2021')\n",
        "googlenews.search('Bitcoin')\n",
        "googlenews.get_page(30)\n",
        "Result=googlenews.results()"
      ],
      "execution_count": null,
      "outputs": []
    },
    {
      "cell_type": "code",
      "metadata": {
        "id": "MMRRMCpEcaf8"
      },
      "source": [
        "def get_news(keyword , period, NumOfPages):\n",
        "#  ''' keyword is something that will be searched in google , period is the period of search\n",
        "#  and NumOfPages is how many pages def should search'''\n",
        "  googlenews = GoogleNews(period='30d')\n",
        "  googlenews.search('Bitcoin')\n",
        "  for i in range(2,NumOfPages):\n",
        "    googlenews.getpage(i)\n",
        "    result=googlenews.result()\n",
        "    df=pd.DataFrame(result)\n",
        "  return df\n",
        "\n",
        "df=get_news('Bitcoin', '30d',20)"
      ],
      "execution_count": null,
      "outputs": []
    },
    {
      "cell_type": "code",
      "metadata": {
        "id": "y-PFA85OqyZl"
      },
      "source": [
        "df.drop(columns=['datetime'], inplace=True)"
      ],
      "execution_count": null,
      "outputs": []
    },
    {
      "cell_type": "code",
      "metadata": {
        "id": "F2M-qAcGrBB-"
      },
      "source": [
        "df.drop(columns=['img'], inplace=True)"
      ],
      "execution_count": null,
      "outputs": []
    },
    {
      "cell_type": "code",
      "metadata": {
        "id": "U-nSdklCHEOE"
      },
      "source": [
        "df\n",
        "\n"
      ],
      "execution_count": null,
      "outputs": []
    },
    {
      "cell_type": "code",
      "metadata": {
        "id": "2IShaHFxNEq9"
      },
      "source": [
        "#filtering by media\n",
        "filt = df['media']== 'Al Jazeera'\n",
        "df[filt]"
      ],
      "execution_count": null,
      "outputs": []
    },
    {
      "cell_type": "code",
      "metadata": {
        "id": "CJiM7fwVN2V4"
      },
      "source": [
        "#grouping by media\n",
        "media_gp= df.groupby(['media'])\n",
        "media_gp ['link'].value_counts() "
      ],
      "execution_count": null,
      "outputs": []
    },
    {
      "cell_type": "code",
      "metadata": {
        "id": "cqiiNofXNzmA"
      },
      "source": [
        "\n",
        "for index in range(df.shape[0]):\n",
        "  try:\n",
        "    article=Article(df.loc[index,'link'])\n",
        "    article.download()\n",
        "    article.html\n",
        "    article.parse()\n",
        "    article.nlp()\n",
        "    \n",
        "    \n",
        "    df.loc[index,'Context'] = article.text\n",
        "    df.loc[index, 'Summary'] = article.summary\n",
        "    df.loc[index, 'Keywords'] = ' '.join(article.keywords)\n",
        "  except:\n",
        "    df.loc[index,'Context'] = 'Not able to recieve this news'\n",
        "    df.loc[index, 'Summary'] = 'Could not summarize the context'\n",
        "    df.loc[index, 'Keywords'] = \"No keywords founded\"\n",
        "    \n",
        "\n",
        "#df['Context'] = news_context\n",
        "\n",
        "\n"
      ],
      "execution_count": null,
      "outputs": []
    },
    {
      "cell_type": "code",
      "metadata": {
        "id": "BGgWGgfmzlZp"
      },
      "source": [
        "df.head()"
      ],
      "execution_count": null,
      "outputs": []
    },
    {
      "cell_type": "code",
      "metadata": {
        "id": "rh_bCUg6Z0IQ"
      },
      "source": [
        "#sentiment analysis\n",
        "#Analyzer = SentimentIntensityAnalyzer()\n",
        "#negative=[]\n",
        "#netrual=[]\n",
        "#positive=[]\n",
        "#for i in range(df.shape[0]):\n",
        "#  title = df.iloc[i,0]\n",
        "#  desc\t = df.iloc[i,4]\n",
        "#  summ = df.loc[i,'Summary']\n",
        "#  title_analyzer = Analyzer.polarity_scores(title)\n",
        "#  caption_analyzer = Analyzer.polarity_scores(desc)\n",
        "#  summary_analyzer = Analyzer.polarity_scores(summ)\n",
        "#  negative.append(((title_analyzer['neg']) + (caption_analyzer['neg']) + (summary_analyzer['neg']) )/3)\n",
        "#  positive.append(((title_analyzer['pos']) + (caption_analyzer['pos']) + (summary_analyzer['pos']))/3)\n",
        "#  netrual.append(((title_analyzer['neu']) + (caption_analyzer['neu'])+ (summary_analyzer['neu']))/3)\n",
        "\n",
        "#df['Negative']= negative\n",
        "#df['Positive']= positive\n",
        "#df['Netrual'] = netrual"
      ],
      "execution_count": null,
      "outputs": []
    },
    {
      "cell_type": "code",
      "metadata": {
        "id": "OuWgOwTS_2XU"
      },
      "source": [
        "from textblob import TextBlob"
      ],
      "execution_count": null,
      "outputs": []
    },
    {
      "cell_type": "code",
      "metadata": {
        "id": "SjRvRj41aSuZ"
      },
      "source": [
        "polarity_list=[]\n",
        "for text in df.loc[:,'Context']:\n",
        "  blob = TextBlob(text)\n",
        "  polarity_list.append(blob.sentiment.polarity)\n",
        "\n"
      ],
      "execution_count": null,
      "outputs": []
    },
    {
      "cell_type": "code",
      "metadata": {
        "id": "HJzObWUYPUu_"
      },
      "source": [
        "df[\"Polarity\"]=polarity_list"
      ],
      "execution_count": null,
      "outputs": []
    },
    {
      "cell_type": "code",
      "metadata": {
        "id": "QvThMiY3iz2-"
      },
      "source": [
        "df.to_csv('news1.csv')"
      ],
      "execution_count": null,
      "outputs": []
    },
    {
      "cell_type": "code",
      "metadata": {
        "id": "OyqanRMsd8js"
      },
      "source": [
        "df.nsmallest(5,['Polarity'])"
      ],
      "execution_count": null,
      "outputs": []
    }
  ]
}