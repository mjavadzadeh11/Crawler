{
  "nbformat": 4,
  "nbformat_minor": 0,
  "metadata": {
    "colab": {
      "name": "Copy of GoogleNews.ipynb",
      "provenance": [],
      "collapsed_sections": [],
      "authorship_tag": "ABX9TyMZN2m8zPWP3abFeHQoFNWi",
      "include_colab_link": true
    },
    "kernelspec": {
      "name": "python3",
      "display_name": "Python 3"
    },
    "language_info": {
      "name": "python"
    }
  },
  "cells": [
    {
      "cell_type": "markdown",
      "metadata": {
        "id": "view-in-github",
        "colab_type": "text"
      },
      "source": [
        "<a href=\"https://colab.research.google.com/github/mjavadzadeh11/Crawler/blob/master/GoogleNews.ipynb\" target=\"_parent\"><img src=\"https://colab.research.google.com/assets/colab-badge.svg\" alt=\"Open In Colab\"/></a>"
      ]
    },
    {
      "cell_type": "code",
      "metadata": {
        "id": "6rE-gdVKove3"
      },
      "source": [
        "!pip install GoogleNews\n",
        "!pip install newspaper3k"
      ],
      "execution_count": null,
      "outputs": []
    },
    {
      "cell_type": "code",
      "metadata": {
        "id": "sUBNvwp97vRC"
      },
      "source": [
        "!pip install googleanalytics"
      ],
      "execution_count": null,
      "outputs": []
    },
    {
      "cell_type": "code",
      "metadata": {
        "id": "NW49OtAynGic"
      },
      "source": [
        "import pandas as pd\n",
        "from GoogleNews import GoogleNews\n",
        "from newspaper import Article\n",
        "import requests\n",
        "import nltk\n",
        "nltk.download('punkt')"
      ],
      "execution_count": null,
      "outputs": []
    },
    {
      "cell_type": "code",
      "metadata": {
        "id": "vhL0M_r671Z6"
      },
      "source": [
        ""
      ],
      "execution_count": null,
      "outputs": []
    },
    {
      "cell_type": "code",
      "metadata": {
        "id": "yTMaCGzLoq3G"
      },
      "source": [
        "googlenews = GoogleNews(start='11/04/2021',end='12/04/2021')\n",
        "googlenews.search('Iran')\n",
        "\n",
        "#googlenews = GoogleNews(period='7d')\n",
        "googlenews.get_page(10)\n",
        "Result=googlenews.results()"
      ],
      "execution_count": null,
      "outputs": []
    },
    {
      "cell_type": "code",
      "metadata": {
        "id": "U-nSdklCHEOE"
      },
      "source": [
        "df=pd.DataFrame(Result)\n",
        "df.drop(columns=['img'], inplace=True)"
      ],
      "execution_count": null,
      "outputs": []
    },
    {
      "cell_type": "code",
      "metadata": {
        "id": "2IShaHFxNEq9"
      },
      "source": [
        "#filtering by media\n",
        "filt = df['media']== 'Al Jazeera'\n",
        "df[filt]"
      ],
      "execution_count": null,
      "outputs": []
    },
    {
      "cell_type": "code",
      "metadata": {
        "id": "LXa6seYuaFA2"
      },
      "source": [
        "df.iloc[0,0]"
      ],
      "execution_count": null,
      "outputs": []
    },
    {
      "cell_type": "code",
      "metadata": {
        "id": "CJiM7fwVN2V4"
      },
      "source": [
        "#grouping by media\n",
        "media_gp= df.groupby(['media'])\n",
        "media_gp ['link'].value_counts() "
      ],
      "execution_count": null,
      "outputs": []
    },
    {
      "cell_type": "code",
      "metadata": {
        "id": "cqiiNofXNzmA"
      },
      "source": [
        "\n",
        "for index in range(df.shape[0]):\n",
        "  try:\n",
        "    article=Article(df.loc[index,'link'])\n",
        "    article.download()\n",
        "    article.html\n",
        "    article.parse()\n",
        "    article.nlp()\n",
        "    \n",
        "    \n",
        "    df.loc[index,'Context'] = article.text\n",
        "    df.loc[index, 'Summary'] = article.summary\n",
        "    df.loc[index, 'Keywords'] = ' '.join(article.keywords)\n",
        "  except:\n",
        "    df.loc[index,'Context'] = 'Not able to recieve this news'\n",
        "    df.loc[index, 'Summary'] = 'Could not summarize the context'\n",
        "    df.loc[index, 'Keywords'] = \"No keywords founded\"\n",
        "    \n",
        "\n",
        "#df['Context'] = news_context\n",
        "\n",
        "\n"
      ],
      "execution_count": null,
      "outputs": []
    },
    {
      "cell_type": "code",
      "metadata": {
        "id": "BGgWGgfmzlZp"
      },
      "source": [
        "df"
      ],
      "execution_count": null,
      "outputs": []
    },
    {
      "cell_type": "code",
      "metadata": {
        "id": "r4fTrxzvty9F"
      },
      "source": [
        ""
      ],
      "execution_count": null,
      "outputs": []
    },
    {
      "cell_type": "code",
      "metadata": {
        "id": "VyqZTt1VZvEz"
      },
      "source": [
        "!pip install vaderSentiment"
      ],
      "execution_count": null,
      "outputs": []
    },
    {
      "cell_type": "code",
      "metadata": {
        "id": "Ljjrn38xUBnc"
      },
      "source": [
        "# sentiment analysis     # !pip install vaderSentiment\n",
        "from vaderSentiment.vaderSentiment import SentimentIntensityAnalyzer\n"
      ],
      "execution_count": null,
      "outputs": []
    },
    {
      "cell_type": "code",
      "metadata": {
        "id": "rh_bCUg6Z0IQ"
      },
      "source": [
        "Analyzer = SentimentIntensityAnalyzer()\n",
        "negative=[]\n",
        "netrual=[]\n",
        "positive=[]\n",
        "for i in range(df.shape[0]):\n",
        "  title = df.iloc[i,0]\n",
        "  desc\t = df.iloc[i,4]\n",
        "  summ = df.loc[i,'Summary']\n",
        "  title_analyzer = Analyzer.polarity_scores(title)\n",
        "  caption_analyzer = Analyzer.polarity_scores(desc)\n",
        "  summary_analyzer = Analyzer.polarity_scores(summ)\n",
        "  negative.append(((title_analyzer['neg']) + (caption_analyzer['neg']) + (summary_analyzer['neg']) )/3)\n",
        "  positive.append(((title_analyzer['pos']) + (caption_analyzer['pos']) + (summary_analyzer['pos']))/3)\n",
        "  netrual.append(((title_analyzer['neu']) + (caption_analyzer['neu'])+ (summary_analyzer['neu']))/3)\n",
        "\n",
        "df['Negative']= negative\n",
        "df['Positive']= positive\n",
        "df['Netrual'] = netrual"
      ],
      "execution_count": null,
      "outputs": []
    },
    {
      "cell_type": "code",
      "metadata": {
        "id": "OuWgOwTS_2XU"
      },
      "source": [
        "df"
      ],
      "execution_count": null,
      "outputs": []
    },
    {
      "cell_type": "code",
      "metadata": {
        "id": "SjRvRj41aSuZ"
      },
      "source": [
        "\n"
      ],
      "execution_count": null,
      "outputs": []
    },
    {
      "cell_type": "code",
      "metadata": {
        "id": "QvThMiY3iz2-"
      },
      "source": [
        ""
      ],
      "execution_count": null,
      "outputs": []
    },
    {
      "cell_type": "code",
      "metadata": {
        "id": "OyqanRMsd8js",
        "colab": {
          "base_uri": "https://localhost:8080/",
          "height": 165
        },
        "outputId": "a8866fb9-6209-40f6-a5c3-b4a41e5d91c3"
      },
      "source": [
        "df.nlargest(5,['Negative'])"
      ],
      "execution_count": 1,
      "outputs": [
        {
          "output_type": "error",
          "ename": "NameError",
          "evalue": "ignored",
          "traceback": [
            "\u001b[0;31m---------------------------------------------------------------------------\u001b[0m",
            "\u001b[0;31mNameError\u001b[0m                                 Traceback (most recent call last)",
            "\u001b[0;32m<ipython-input-1-e6782ea67e52>\u001b[0m in \u001b[0;36m<module>\u001b[0;34m()\u001b[0m\n\u001b[0;32m----> 1\u001b[0;31m \u001b[0mdf\u001b[0m\u001b[0;34m.\u001b[0m\u001b[0mnlargest\u001b[0m\u001b[0;34m(\u001b[0m\u001b[0;36m5\u001b[0m\u001b[0;34m,\u001b[0m\u001b[0;34m[\u001b[0m\u001b[0;34m'Negative'\u001b[0m\u001b[0;34m]\u001b[0m\u001b[0;34m)\u001b[0m\u001b[0;34m\u001b[0m\u001b[0;34m\u001b[0m\u001b[0m\n\u001b[0m",
            "\u001b[0;31mNameError\u001b[0m: name 'df' is not defined"
          ]
        }
      ]
    }
  ]
}