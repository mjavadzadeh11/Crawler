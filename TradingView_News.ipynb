{
  "nbformat": 4,
  "nbformat_minor": 0,
  "metadata": {
    "colab": {
      "name": "TradingView_News.ipynb",
      "provenance": [],
      "collapsed_sections": [],
      "authorship_tag": "ABX9TyM6ua9POkfU1mUczLVPHixd",
      "include_colab_link": true
    },
    "kernelspec": {
      "name": "python3",
      "display_name": "Python 3"
    },
    "language_info": {
      "name": "python"
    }
  },
  "cells": [
    {
      "cell_type": "markdown",
      "metadata": {
        "id": "view-in-github",
        "colab_type": "text"
      },
      "source": [
        "<a href=\"https://colab.research.google.com/github/mjavadzadeh11/Crawler/blob/master/TradingView_News.ipynb\" target=\"_parent\"><img src=\"https://colab.research.google.com/assets/colab-badge.svg\" alt=\"Open In Colab\"/></a>"
      ]
    },
    {
      "cell_type": "code",
      "source": [
        "!pip install GoogleNews\n",
        "!pip install newspaper3k;"
      ],
      "metadata": {
        "id": "oXdC_lDTzEkz"
      },
      "execution_count": null,
      "outputs": []
    },
    {
      "cell_type": "code",
      "execution_count": null,
      "metadata": {
        "id": "TXX8xyNWDq98"
      },
      "outputs": [],
      "source": [
        "from bs4 import BeautifulSoup \n",
        "import requests \n",
        "import pandas as pd\n",
        "import datetime as dt\n",
        "import json\n",
        "import matplotlib.pyplot as plt\n",
        "from newspaper import Article\n",
        "import nltk\n",
        "nltk.download('punkt')\n",
        "from textblob import TextBlob"
      ]
    },
    {
      "cell_type": "code",
      "source": [
        "url = \"https://www.tradingview.com/key-events/?market=crypto\"\n",
        "source = requests.get(url).text\n",
        "cf = BeautifulSoup(source , 'lxml')"
      ],
      "metadata": {
        "id": "2fpSXgx6h-s_"
      },
      "execution_count": 3,
      "outputs": []
    },
    {
      "cell_type": "code",
      "source": [
        "#getting urls:\n",
        "links=[]\n",
        "for link in cf.find_all('a', class_='cardLink-117psRQF'):\n",
        "  links.append(link['href'])\n",
        "  #getting img urls:\n",
        "img_url=[]\n",
        "for img in cf.find_all('div' , class_='imageWrapper-2Nz2Ij_B ratio2by1-1D2FG29r'):\n",
        "  img_url.append(img.img['src'])"
      ],
      "metadata": {
        "id": "vwjUzGv5ybbg"
      },
      "execution_count": 4,
      "outputs": []
    },
    {
      "cell_type": "code",
      "source": [
        "#content of News : \n",
        "df_dict={'Symbol':[] , 'Date':[] , 'Headlines':[], 'Desc':[]}\n",
        "for content in cf.find_all('div' , class_= 'content-117psRQF'):\n",
        "  df_dict['Symbol'].append(content.find('span', class_='symbolName-1fSAmU9b').text)\n",
        "  df_dict['Date'].append(content.find('span',class_='date-1fSAmU9b').text)\n",
        "  df_dict['Headlines'].append(content.find('div', class_='headline-1fSAmU9b').text)\n",
        "  df_dict['Desc'].append(content.find('div', class_='description-1fSAmU9b').text)"
      ],
      "metadata": {
        "id": "Im3MBL-vvqsg"
      },
      "execution_count": 5,
      "outputs": []
    },
    {
      "cell_type": "code",
      "source": [
        "#change the type of date in tradingview\n",
        "def norm_date(n):\n",
        "  ''' change trading view date formate to datetime'''\n",
        "  \n",
        "  months_dict={'Jan':1, 'Feb':2,'Mar':3,'Apr':4,'May':5, 'Jun':6, 'Jul':7,'Aug':8,'Sep':9,'Oct':10,'Nov':11,'Dec':12}\n",
        "  month=n.split(' ')[0]\n",
        "  month=months_dict[month]\n",
        "  year=dt.datetime.today().year\n",
        "  day=int(n.split(' ')[1])\n",
        "  return dt.date(year,month,day)\n",
        "\n",
        "df_dict['Date'] = list(map(norm_date,df_dict['Date']))"
      ],
      "metadata": {
        "id": "PSAsRCw6ipYX"
      },
      "execution_count": 6,
      "outputs": []
    },
    {
      "cell_type": "code",
      "source": [
        "# Transfer datas into dataFrame\n",
        "df=pd.DataFrame(df_dict)\n",
        "df['Links']= links\n",
        "df['Img_links'] =  img_url\n"
      ],
      "metadata": {
        "id": "8cH1DBuNp3Gd"
      },
      "execution_count": 7,
      "outputs": []
    },
    {
      "cell_type": "code",
      "source": [
        "df.head(2)"
      ],
      "metadata": {
        "id": "VtDLYUCVztCh"
      },
      "execution_count": null,
      "outputs": []
    },
    {
      "cell_type": "code",
      "source": [
        "for index in range(df.shape[0]):\n",
        "  try:\n",
        "    article=Article(df.loc[index,'Links'])\n",
        "    article.download()\n",
        "    article.html\n",
        "    article.parse()\n",
        "    article.nlp()\n",
        "    \n",
        "    \n",
        "    df.loc[index,'Context'] = article.text\n",
        "    df.loc[index, 'Summary'] = article.summary\n",
        "    df.loc[index, 'Keywords'] = ' '.join(article.keywords)\n",
        "  except:\n",
        "    df.loc[index,'Context'] = 'Not able to recieve this news'\n",
        "    df.loc[index, 'Summary'] = 'Could not summarize the context'\n",
        "    df.loc[index, 'Keywords'] = \"No keywords founded\""
      ],
      "metadata": {
        "id": "IPAVEyazzQQv"
      },
      "execution_count": 9,
      "outputs": []
    },
    {
      "cell_type": "code",
      "source": [
        "df.set_index('Date', inplace=True)"
      ],
      "metadata": {
        "id": "flkdJlt6z9NZ"
      },
      "execution_count": 10,
      "outputs": []
    },
    {
      "cell_type": "code",
      "source": [
        "df.head(2)"
      ],
      "metadata": {
        "colab": {
          "base_uri": "https://localhost:8080/",
          "height": 213
        },
        "id": "De2B_mJ_1D3E",
        "outputId": "c5a4d6bf-0d2e-403e-998d-6b495800cc28"
      },
      "execution_count": 11,
      "outputs": [
        {
          "output_type": "execute_result",
          "data": {
            "text/html": [
              "<div>\n",
              "<style scoped>\n",
              "    .dataframe tbody tr th:only-of-type {\n",
              "        vertical-align: middle;\n",
              "    }\n",
              "\n",
              "    .dataframe tbody tr th {\n",
              "        vertical-align: top;\n",
              "    }\n",
              "\n",
              "    .dataframe thead th {\n",
              "        text-align: right;\n",
              "    }\n",
              "</style>\n",
              "<table border=\"1\" class=\"dataframe\">\n",
              "  <thead>\n",
              "    <tr style=\"text-align: right;\">\n",
              "      <th></th>\n",
              "      <th>Symbol</th>\n",
              "      <th>Headlines</th>\n",
              "      <th>Desc</th>\n",
              "      <th>Links</th>\n",
              "      <th>Img_links</th>\n",
              "      <th>Context</th>\n",
              "      <th>Summary</th>\n",
              "      <th>Keywords</th>\n",
              "    </tr>\n",
              "    <tr>\n",
              "      <th>Date</th>\n",
              "      <th></th>\n",
              "      <th></th>\n",
              "      <th></th>\n",
              "      <th></th>\n",
              "      <th></th>\n",
              "      <th></th>\n",
              "      <th></th>\n",
              "      <th></th>\n",
              "    </tr>\n",
              "  </thead>\n",
              "  <tbody>\n",
              "    <tr>\n",
              "      <th>2021-12-10</th>\n",
              "      <td>MATICUSD</td>\n",
              "      <td>Polygon’s power is growing</td>\n",
              "      <td>Polygon ups its domination game by purchasing ...</td>\n",
              "      <td>https://www.tradingview.com/symbols/MATICUSD/h...</td>\n",
              "      <td>https://s3.tradingview.com/timeline/9-min_3494...</td>\n",
              "      <td>1/8 It's official: #Polygon welcomes @MirProto...</td>\n",
              "      <td>1/8 It's official: #Polygon welcomes @MirProto...</td>\n",
              "      <td>major welcomes events maticusd scaling timelin...</td>\n",
              "    </tr>\n",
              "    <tr>\n",
              "      <th>2021-12-10</th>\n",
              "      <td>ETHUSD</td>\n",
              "      <td>Upgrade Activate</td>\n",
              "      <td>Ethereum loses its weekly gains despite an exc...</td>\n",
              "      <td>https://www.tradingview.com/symbols/ETHUSD/his...</td>\n",
              "      <td>https://s3.tradingview.com/timeline/3-min_3494...</td>\n",
              "      <td>Ethereum logs its first weekly loss since Marc...</td>\n",
              "      <td>But it looks like there might be a chink in it...</td>\n",
              "      <td>bitcoin major events musk billion interest tim...</td>\n",
              "    </tr>\n",
              "  </tbody>\n",
              "</table>\n",
              "</div>"
            ],
            "text/plain": [
              "              Symbol  ...                                           Keywords\n",
              "Date                  ...                                                   \n",
              "2021-12-10  MATICUSD  ...  major welcomes events maticusd scaling timelin...\n",
              "2021-12-10    ETHUSD  ...  bitcoin major events musk billion interest tim...\n",
              "\n",
              "[2 rows x 8 columns]"
            ]
          },
          "metadata": {},
          "execution_count": 11
        }
      ]
    },
    {
      "cell_type": "code",
      "source": [
        "def get_polarity(text):\n",
        "  return TextBlob(text).sentiment.polarity"
      ],
      "metadata": {
        "id": "oYA2gtQF1OAc"
      },
      "execution_count": 12,
      "outputs": []
    },
    {
      "cell_type": "code",
      "source": [
        "title_polarity=df.loc[:,'Headlines'].apply(get_polarity)\n",
        "desc_polarity=df.loc[:,'Desc'].apply(get_polarity)\n",
        "df['Polarity']=(title_polarity+desc_polarity)/2"
      ],
      "metadata": {
        "id": "_7H8TX0V1TxU"
      },
      "execution_count": 13,
      "outputs": []
    }
  ]
}