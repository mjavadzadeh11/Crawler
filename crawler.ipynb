{
 "cells": [
  {
   "cell_type": "code",
   "execution_count": 6,
   "id": "34a83002",
   "metadata": {},
   "outputs": [],
   "source": [
    "import requests\n",
    "from bs4 import BeautifulSoup"
   ]
  },
  {
   "cell_type": "code",
   "execution_count": 22,
   "id": "eef6a579",
   "metadata": {},
   "outputs": [],
   "source": [
    "def news_spider(max_page):\n",
    "    page=1\n",
    "    while page<=max_page:\n",
    "        url = 'https://www.khabaronline.ir/archive?tp=%s' %(page)\n",
    "        source = requests.get(url)\n",
    "        text = source.text\n",
    "        classifer = BeautifulSoup(text)\n",
    "        for links in classifer.findAll('a' , {'target':'_blank'}):\n",
    "            href='https://www.khabaronline.ir/'+links.get('href')\n",
    "            \n",
    "            print(href)\n",
    "            \n",
    "        page+=1\n",
    "        "
   ]
  },
  {
   "cell_type": "code",
   "execution_count": 23,
   "id": "3e6beecc",
   "metadata": {
    "scrolled": false
   },
   "outputs": [
    {
     "name": "stdout",
     "output_type": "stream",
     "text": [
      "https://www.khabaronline.ir//news/1575963/نامه-مهم-بنیاد-شهید-سلیمانی-به-رئیس-صدا-و-سیما\n",
      "https://www.khabaronline.ir//news/1575963/%D9%86%D8%A7%D9%85%D9%87-%D9%85%D9%87%D9%85-%D8%A8%D9%86%DB%8C%D8%A7%D8%AF-%D8%B4%D9%87%DB%8C%D8%AF-%D8%B3%D9%84%DB%8C%D9%85%D8%A7%D9%86%DB%8C-%D8%A8%D9%87-%D8%B1%D8%A6%DB%8C%D8%B3-%D8%B5%D8%AF%D8%A7-%D9%88-%D8%B3%DB%8C%D9%85%D8%A7\n",
      "https://www.khabaronline.ir//news/1575972/قدردانی-سخنگوی-سپاه-از-کارکنان-صنعت-نفت-مشکل-لاینحلی-در-کشور\n",
      "https://www.khabaronline.ir//news/1575972/%D9%82%D8%AF%D8%B1%D8%AF%D8%A7%D9%86%DB%8C-%D8%B3%D8%AE%D9%86%DA%AF%D9%88%DB%8C-%D8%B3%D9%BE%D8%A7%D9%87-%D8%A7%D8%B2-%DA%A9%D8%A7%D8%B1%DA%A9%D9%86%D8%A7%D9%86-%D8%B5%D9%86%D8%B9%D8%AA-%D9%86%D9%81%D8%AA-%D9%85%D8%B4%DA%A9%D9%84-%D9%84%D8%A7%DB%8C%D9%86%D8%AD%D9%84%DB%8C-%D8%AF%D8%B1-%DA%A9%D8%B4%D9%88%D8%B1\n",
      "https://www.khabaronline.ir//news/1575935/وزیر-اطلاعات-پیام-جدید-صادر-کرد\n",
      "https://www.khabaronline.ir//news/1575935/%D9%88%D8%B2%DB%8C%D8%B1-%D8%A7%D8%B7%D9%84%D8%A7%D8%B9%D8%A7%D8%AA-%D9%BE%DB%8C%D8%A7%D9%85-%D8%AC%D8%AF%DB%8C%D8%AF-%D8%B5%D8%A7%D8%AF%D8%B1-%DA%A9%D8%B1%D8%AF\n",
      "https://www.khabaronline.ir//news/1575969/خبر-خوش-نماینده-مجلس-برای-کارگران-مجلس-و-دولت-توافق-کردند\n",
      "https://www.khabaronline.ir//news/1575969/%D8%AE%D8%A8%D8%B1-%D8%AE%D9%88%D8%B4-%D9%86%D9%85%D8%A7%DB%8C%D9%86%D8%AF%D9%87-%D9%85%D8%AC%D9%84%D8%B3-%D8%A8%D8%B1%D8%A7%DB%8C-%DA%A9%D8%A7%D8%B1%DA%AF%D8%B1%D8%A7%D9%86-%D9%85%D8%AC%D9%84%D8%B3-%D9%88-%D8%AF%D9%88%D9%84%D8%AA-%D8%AA%D9%88%D8%A7%D9%81%D9%82-%DA%A9%D8%B1%D8%AF%D9%86%D8%AF\n",
      "https://www.khabaronline.ir//news/1575967/ماموریت-جدید-رئیسی-به-شورای-عالی-انقلاب-فرهنگی\n",
      "https://www.khabaronline.ir//news/1575967/%D9%85%D8%A7%D9%85%D9%88%D8%B1%DB%8C%D8%AA-%D8%AC%D8%AF%DB%8C%D8%AF-%D8%B1%D8%A6%DB%8C%D8%B3%DB%8C-%D8%A8%D9%87-%D8%B4%D9%88%D8%B1%D8%A7%DB%8C-%D8%B9%D8%A7%D9%84%DB%8C-%D8%A7%D9%86%D9%82%D9%84%D8%A7%D8%A8-%D9%81%D8%B1%D9%87%D9%86%DA%AF%DB%8C\n",
      "https://www.khabaronline.ir//news/1575930/ابراز-نگرانی-نماینده-مجلس-از-حذف-ارز-۴۲۰۰-تومانی\n",
      "https://www.khabaronline.ir//news/1575930/%D8%A7%D8%A8%D8%B1%D8%A7%D8%B2-%D9%86%DA%AF%D8%B1%D8%A7%D9%86%DB%8C-%D9%86%D9%85%D8%A7%DB%8C%D9%86%D8%AF%D9%87-%D9%85%D8%AC%D9%84%D8%B3-%D8%A7%D8%B2-%D8%AD%D8%B0%D9%81-%D8%A7%D8%B1%D8%B2-%DB%B4%DB%B2%DB%B0%DB%B0-%D8%AA%D9%88%D9%85%D8%A7%D9%86%DB%8C\n",
      "https://www.khabaronline.ir//news/1575754/واکنش-توئیتری-زنگنه-به-عدم-حضورش-در-تلویزیون-با-هشتگ-کرسنت\n",
      "https://www.khabaronline.ir//news/1575754/%D9%88%D8%A7%DA%A9%D9%86%D8%B4-%D8%AA%D9%88%D8%A6%DB%8C%D8%AA%D8%B1%DB%8C-%D8%B2%D9%86%DA%AF%D9%86%D9%87-%D8%A8%D9%87-%D8%B9%D8%AF%D9%85-%D8%AD%D8%B6%D9%88%D8%B1%D8%B4-%D8%AF%D8%B1-%D8%AA%D9%84%D9%88%DB%8C%D8%B2%DB%8C%D9%88%D9%86-%D8%A8%D8%A7-%D9%87%D8%B4%D8%AA%DA%AF-%DA%A9%D8%B1%D8%B3%D9%86%D8%AA\n",
      "https://www.khabaronline.ir//news/1575925/پیشنهاد-فرمانده-سپاه-محمدرسول-الله-به-شورای-شهر-تهران\n",
      "https://www.khabaronline.ir//news/1575925/%D9%BE%DB%8C%D8%B4%D9%86%D9%87%D8%A7%D8%AF-%D9%81%D8%B1%D9%85%D8%A7%D9%86%D8%AF%D9%87-%D8%B3%D9%BE%D8%A7%D9%87-%D9%85%D8%AD%D9%85%D8%AF%D8%B1%D8%B3%D9%88%D9%84-%D8%A7%D9%84%D9%84%D9%87-%D8%A8%D9%87-%D8%B4%D9%88%D8%B1%D8%A7%DB%8C-%D8%B4%D9%87%D8%B1-%D8%AA%D9%87%D8%B1%D8%A7%D9%86\n",
      "https://www.khabaronline.ir//news/1575916/خاطره-ناشنیده-وزیر-اطلاعات-احمدی-نژاد-از-اقدام-خلبانان-عراقی\n",
      "https://www.khabaronline.ir//news/1575916/%D8%AE%D8%A7%D8%B7%D8%B1%D9%87-%D9%86%D8%A7%D8%B4%D9%86%DB%8C%D8%AF%D9%87-%D9%88%D8%B2%DB%8C%D8%B1-%D8%A7%D8%B7%D9%84%D8%A7%D8%B9%D8%A7%D8%AA-%D8%A7%D8%AD%D9%85%D8%AF%DB%8C-%D9%86%DA%98%D8%A7%D8%AF-%D8%A7%D8%B2-%D8%A7%D9%82%D8%AF%D8%A7%D9%85-%D8%AE%D9%84%D8%A8%D8%A7%D9%86%D8%A7%D9%86-%D8%B9%D8%B1%D8%A7%D9%82%DB%8C\n",
      "https://www.khabaronline.ir//news/1575851/وزیر-کشور-پیام-جدید-صادر-کرد\n",
      "https://www.khabaronline.ir//news/1575851/%D9%88%D8%B2%DB%8C%D8%B1-%DA%A9%D8%B4%D9%88%D8%B1-%D9%BE%DB%8C%D8%A7%D9%85-%D8%AC%D8%AF%DB%8C%D8%AF-%D8%B5%D8%A7%D8%AF%D8%B1-%DA%A9%D8%B1%D8%AF\n",
      "https://www.khabaronline.ir//news/1575914/رفتار-احمدی-نژاد-مثل-ناطق-نوری-است-یا-مهندس-موسوی-او-فقط-کپی-برداری\n",
      "https://www.khabaronline.ir//news/1575914/%D8%B1%D9%81%D8%AA%D8%A7%D8%B1-%D8%A7%D8%AD%D9%85%D8%AF%DB%8C-%D9%86%DA%98%D8%A7%D8%AF-%D9%85%D8%AB%D9%84-%D9%86%D8%A7%D8%B7%D9%82-%D9%86%D9%88%D8%B1%DB%8C-%D8%A7%D8%B3%D8%AA-%DB%8C%D8%A7-%D9%85%D9%87%D9%86%D8%AF%D8%B3-%D9%85%D9%88%D8%B3%D9%88%DB%8C-%D8%A7%D9%88-%D9%81%D9%82%D8%B7-%DA%A9%D9%BE%DB%8C-%D8%A8%D8%B1%D8%AF%D8%A7%D8%B1%DB%8C\n",
      "https://www.khabaronline.ir//news/1575898/قالیباف-و-زاکانی-باز-به-هم-رسیدند-ظریف-و-زنگنه-و-عارف-کنار\n",
      "https://www.khabaronline.ir//news/1575898/%D9%82%D8%A7%D9%84%DB%8C%D8%A8%D8%A7%D9%81-%D9%88-%D8%B2%D8%A7%DA%A9%D8%A7%D9%86%DB%8C-%D8%A8%D8%A7%D8%B2-%D8%A8%D9%87-%D9%87%D9%85-%D8%B1%D8%B3%DB%8C%D8%AF%D9%86%D8%AF-%D8%B8%D8%B1%DB%8C%D9%81-%D9%88-%D8%B2%D9%86%DA%AF%D9%86%D9%87-%D9%88-%D8%B9%D8%A7%D8%B1%D9%81-%DA%A9%D9%86%D8%A7%D8%B1\n",
      "https://www.khabaronline.ir//news/1575889/فرمانده-کل-سپاه-این-ایران-است-که-آمریکا-را-مدیریت-می-کند\n",
      "https://www.khabaronline.ir//news/1575889/%D9%81%D8%B1%D9%85%D8%A7%D9%86%D8%AF%D9%87-%DA%A9%D9%84-%D8%B3%D9%BE%D8%A7%D9%87-%D8%A7%DB%8C%D9%86-%D8%A7%DB%8C%D8%B1%D8%A7%D9%86-%D8%A7%D8%B3%D8%AA-%DA%A9%D9%87-%D8%A2%D9%85%D8%B1%DB%8C%DA%A9%D8%A7-%D8%B1%D8%A7-%D9%85%D8%AF%DB%8C%D8%B1%DB%8C%D8%AA-%D9%85%DB%8C-%DA%A9%D9%86%D8%AF\n",
      "https://www.khabaronline.ir//news/1575876/خبر-مهم-در-آستانه-مذاکرات-وین-عراقچی-به-عرصه-دیپلماسی-باز-می\n",
      "https://www.khabaronline.ir//news/1575876/%D8%AE%D8%A8%D8%B1-%D9%85%D9%87%D9%85-%D8%AF%D8%B1-%D8%A2%D8%B3%D8%AA%D8%A7%D9%86%D9%87-%D9%85%D8%B0%D8%A7%DA%A9%D8%B1%D8%A7%D8%AA-%D9%88%DB%8C%D9%86-%D8%B9%D8%B1%D8%A7%D9%82%DA%86%DB%8C-%D8%A8%D9%87-%D8%B9%D8%B1%D8%B5%D9%87-%D8%AF%DB%8C%D9%BE%D9%84%D9%85%D8%A7%D8%B3%DB%8C-%D8%A8%D8%A7%D8%B2-%D9%85%DB%8C\n",
      "https://www.khabaronline.ir//news/1575885/هشدار-یک-نماینده-تکرار-سرنوشت-دریاچه-ارومیه-در-انتظار-دریای\n",
      "https://www.khabaronline.ir//news/1575885/%D9%87%D8%B4%D8%AF%D8%A7%D8%B1-%DB%8C%DA%A9-%D9%86%D9%85%D8%A7%DB%8C%D9%86%D8%AF%D9%87-%D8%AA%DA%A9%D8%B1%D8%A7%D8%B1-%D8%B3%D8%B1%D9%86%D9%88%D8%B4%D8%AA-%D8%AF%D8%B1%DB%8C%D8%A7%DA%86%D9%87-%D8%A7%D8%B1%D9%88%D9%85%DB%8C%D9%87-%D8%AF%D8%B1-%D8%A7%D9%86%D8%AA%D8%B8%D8%A7%D8%B1-%D8%AF%D8%B1%DB%8C%D8%A7%DB%8C\n",
      "https://www.khabaronline.ir//news/1575879/ترافیک-دیدارهای-دیپلماتیک-رئیسی-با-سفرای-اروپایی-جدول\n",
      "https://www.khabaronline.ir//news/1575879/%D8%AA%D8%B1%D8%A7%D9%81%DB%8C%DA%A9-%D8%AF%DB%8C%D8%AF%D8%A7%D8%B1%D9%87%D8%A7%DB%8C-%D8%AF%DB%8C%D9%BE%D9%84%D9%85%D8%A7%D8%AA%DB%8C%DA%A9-%D8%B1%D8%A6%DB%8C%D8%B3%DB%8C-%D8%A8%D8%A7-%D8%B3%D9%81%D8%B1%D8%A7%DB%8C-%D8%A7%D8%B1%D9%88%D9%BE%D8%A7%DB%8C%DB%8C-%D8%AC%D8%AF%D9%88%D9%84\n",
      "https://www.khabaronline.ir//news/1575881/نماینده-ایران-برای-حضور-در-اجلاس-شانگهای-معرفی-شد\n",
      "https://www.khabaronline.ir//news/1575881/%D9%86%D9%85%D8%A7%DB%8C%D9%86%D8%AF%D9%87-%D8%A7%DB%8C%D8%B1%D8%A7%D9%86-%D8%A8%D8%B1%D8%A7%DB%8C-%D8%AD%D8%B6%D9%88%D8%B1-%D8%AF%D8%B1-%D8%A7%D8%AC%D9%84%D8%A7%D8%B3-%D8%B4%D8%A7%D9%86%DA%AF%D9%87%D8%A7%DB%8C-%D9%85%D8%B9%D8%B1%D9%81%DB%8C-%D8%B4%D8%AF\n",
      "https://www.khabaronline.ir//news/1575841/در-دیدار-رئیسی-با-رئیس-سازمان-بسیج-مستضعفین-چه-گذشت\n",
      "https://www.khabaronline.ir//news/1575841/%D8%AF%D8%B1-%D8%AF%DB%8C%D8%AF%D8%A7%D8%B1-%D8%B1%D8%A6%DB%8C%D8%B3%DB%8C-%D8%A8%D8%A7-%D8%B1%D8%A6%DB%8C%D8%B3-%D8%B3%D8%A7%D8%B2%D9%85%D8%A7%D9%86-%D8%A8%D8%B3%DB%8C%D8%AC-%D9%85%D8%B3%D8%AA%D8%B6%D8%B9%D9%81%DB%8C%D9%86-%DA%86%D9%87-%DA%AF%D8%B0%D8%B4%D8%AA\n",
      "https://www.khabaronline.ir//news/1575848/گلایه-شدید-یک-نماینده-از-واردات-خودروی-دست-دوم-توهین-به-مردم\n",
      "https://www.khabaronline.ir//news/1575848/%DA%AF%D9%84%D8%A7%DB%8C%D9%87-%D8%B4%D8%AF%DB%8C%D8%AF-%DB%8C%DA%A9-%D9%86%D9%85%D8%A7%DB%8C%D9%86%D8%AF%D9%87-%D8%A7%D8%B2-%D9%88%D8%A7%D8%B1%D8%AF%D8%A7%D8%AA-%D8%AE%D9%88%D8%AF%D8%B1%D9%88%DB%8C-%D8%AF%D8%B3%D8%AA-%D8%AF%D9%88%D9%85-%D8%AA%D9%88%D9%87%DB%8C%D9%86-%D8%A8%D9%87-%D9%85%D8%B1%D8%AF%D9%85\n",
      "https://www.khabaronline.ir//news/1575872/آماده-باش-مجلس-به-شرکت-های-دولتی-به-زودی-تحقیق-و-تفحص-را-کلید\n",
      "https://www.khabaronline.ir//news/1575872/%D8%A2%D9%85%D8%A7%D8%AF%D9%87-%D8%A8%D8%A7%D8%B4-%D9%85%D8%AC%D9%84%D8%B3-%D8%A8%D9%87-%D8%B4%D8%B1%DA%A9%D8%AA-%D9%87%D8%A7%DB%8C-%D8%AF%D9%88%D9%84%D8%AA%DB%8C-%D8%A8%D9%87-%D8%B2%D9%88%D8%AF%DB%8C-%D8%AA%D8%AD%D9%82%DB%8C%D9%82-%D9%88-%D8%AA%D9%81%D8%AD%D8%B5-%D8%B1%D8%A7-%DA%A9%D9%84%DB%8C%D8%AF\n",
      "https://www.khabaronline.ir//news/1575853/افشای-ماجرای-لغو-حضور-زنگنه-در-تلویزیون-چرا-جلیلی-به-برنامه\n",
      "https://www.khabaronline.ir//news/1575853/%D8%A7%D9%81%D8%B4%D8%A7%DB%8C-%D9%85%D8%A7%D8%AC%D8%B1%D8%A7%DB%8C-%D9%84%D8%BA%D9%88-%D8%AD%D8%B6%D9%88%D8%B1-%D8%B2%D9%86%DA%AF%D9%86%D9%87-%D8%AF%D8%B1-%D8%AA%D9%84%D9%88%DB%8C%D8%B2%DB%8C%D9%88%D9%86-%DA%86%D8%B1%D8%A7-%D8%AC%D9%84%DB%8C%D9%84%DB%8C-%D8%A8%D9%87-%D8%A8%D8%B1%D9%86%D8%A7%D9%85%D9%87\n",
      "https://www.khabaronline.ir//news/1575833/با-نظر-وزیر-کشور-12-ساله-ها-واکسن-کرونا-نیاز-ندارند\n",
      "https://www.khabaronline.ir//news/1575833/%D8%A8%D8%A7-%D9%86%D8%B8%D8%B1-%D9%88%D8%B2%DB%8C%D8%B1-%DA%A9%D8%B4%D9%88%D8%B1-12-%D8%B3%D8%A7%D9%84%D9%87-%D9%87%D8%A7-%D9%88%D8%A7%DA%A9%D8%B3%D9%86-%DA%A9%D8%B1%D9%88%D9%86%D8%A7-%D9%86%DB%8C%D8%A7%D8%B2-%D9%86%D8%AF%D8%A7%D8%B1%D9%86%D8%AF\n",
      "https://www.khabaronline.ir//news/1575748/انتقادات-شدید-قالیباف-از-مدیریت-کشور-هر-۲۴-ساعت-۵-۵-میلیون\n",
      "https://www.khabaronline.ir//news/1575748/%D8%A7%D9%86%D8%AA%D9%82%D8%A7%D8%AF%D8%A7%D8%AA-%D8%B4%D8%AF%DB%8C%D8%AF-%D9%82%D8%A7%D9%84%DB%8C%D8%A8%D8%A7%D9%81-%D8%A7%D8%B2-%D9%85%D8%AF%DB%8C%D8%B1%DB%8C%D8%AA-%DA%A9%D8%B4%D9%88%D8%B1-%D9%87%D8%B1-%DB%B2%DB%B4-%D8%B3%D8%A7%D8%B9%D8%AA-%DB%B5-%DB%B5-%D9%85%DB%8C%D9%84%DB%8C%D9%88%D9%86\n",
      "https://www.khabaronline.ir//news/1575735/فرار-مالیاتی-در-دولت-سیزدهم-هم-ادامه-دارد-از-پزشکان-تا-خودروها\n",
      "https://www.khabaronline.ir//news/1575735/%D9%81%D8%B1%D8%A7%D8%B1-%D9%85%D8%A7%D9%84%DB%8C%D8%A7%D8%AA%DB%8C-%D8%AF%D8%B1-%D8%AF%D9%88%D9%84%D8%AA-%D8%B3%DB%8C%D8%B2%D8%AF%D9%87%D9%85-%D9%87%D9%85-%D8%A7%D8%AF%D8%A7%D9%85%D9%87-%D8%AF%D8%A7%D8%B1%D8%AF-%D8%A7%D8%B2-%D9%BE%D8%B2%D8%B4%DA%A9%D8%A7%D9%86-%D8%AA%D8%A7-%D8%AE%D9%88%D8%AF%D8%B1%D9%88%D9%87%D8%A7\n",
      "https://www.khabaronline.ir//news/1574790/عطریانفر-مجلس-مقابل-ناکارآمدی-برخی-از-مدیران-ارشد-موضع-گرفته\n",
      "https://www.khabaronline.ir//news/1574790/عطریانفر-مجلس-مقابل-ناکارآمدی-برخی-از-مدیران-ارشد-موضع-گرفته\n",
      "https://www.khabaronline.ir//news/1574790/%D8%B9%D8%B7%D8%B1%DB%8C%D8%A7%D9%86%D9%81%D8%B1-%D9%85%D8%AC%D9%84%D8%B3-%D9%85%D9%82%D8%A7%D8%A8%D9%84-%D9%86%D8%A7%DA%A9%D8%A7%D8%B1%D8%A2%D9%85%D8%AF%DB%8C-%D8%A8%D8%B1%D8%AE%DB%8C-%D8%A7%D8%B2-%D9%85%D8%AF%DB%8C%D8%B1%D8%A7%D9%86-%D8%A7%D8%B1%D8%B4%D8%AF-%D9%85%D9%88%D8%B6%D8%B9-%DA%AF%D8%B1%D9%81%D8%AA%D9%87\n",
      "https://www.khabaronline.ir//news/1575702/مهاجری-نقد-درون-جناحی-عباس-عبدی-می-تواند-به-مثابه-آینه-ای-برای\n",
      "https://www.khabaronline.ir//news/1575702/%D9%85%D9%87%D8%A7%D8%AC%D8%B1%DB%8C-%D9%86%D9%82%D8%AF-%D8%AF%D8%B1%D9%88%D9%86-%D8%AC%D9%86%D8%A7%D8%AD%DB%8C-%D8%B9%D8%A8%D8%A7%D8%B3-%D8%B9%D8%A8%D8%AF%DB%8C-%D9%85%DB%8C-%D8%AA%D9%88%D8%A7%D9%86%D8%AF-%D8%A8%D9%87-%D9%85%D8%AB%D8%A7%D8%A8%D9%87-%D8%A2%DB%8C%D9%86%D9%87-%D8%A7%DB%8C-%D8%A8%D8%B1%D8%A7%DB%8C\n",
      "https://www.khabaronline.ir//news/1575686/پیشنهاد-یک-نماینده-برای-برخورد-با-تحریک-کنندگان-مهاجرت-جوانان\n",
      "https://www.khabaronline.ir//news/1575686/%D9%BE%DB%8C%D8%B4%D9%86%D9%87%D8%A7%D8%AF-%DB%8C%DA%A9-%D9%86%D9%85%D8%A7%DB%8C%D9%86%D8%AF%D9%87-%D8%A8%D8%B1%D8%A7%DB%8C-%D8%A8%D8%B1%D8%AE%D9%88%D8%B1%D8%AF-%D8%A8%D8%A7-%D8%AA%D8%AD%D8%B1%DB%8C%DA%A9-%DA%A9%D9%86%D9%86%D8%AF%DA%AF%D8%A7%D9%86-%D9%85%D9%87%D8%A7%D8%AC%D8%B1%D8%AA-%D8%AC%D9%88%D8%A7%D9%86%D8%A7%D9%86\n",
      "https://www.khabaronline.ir//news/1575451/نقش-احمدی-نژاد-در-انتصاب-های-دولت-رئیسی-چقدر-است\n",
      "https://www.khabaronline.ir//news/1575451/%D9%86%D9%82%D8%B4-%D8%A7%D8%AD%D9%85%D8%AF%DB%8C-%D9%86%DA%98%D8%A7%D8%AF-%D8%AF%D8%B1-%D8%A7%D9%86%D8%AA%D8%B5%D8%A7%D8%A8-%D9%87%D8%A7%DB%8C-%D8%AF%D9%88%D9%84%D8%AA-%D8%B1%D8%A6%DB%8C%D8%B3%DB%8C-%DA%86%D9%82%D8%AF%D8%B1-%D8%A7%D8%B3%D8%AA\n",
      "https://www.khabaronline.ir//news/1575536/سه-گزینه-ایران-در-برجام-در-آستانه-مذاکرات-وین-در-هشتم-آذر-ماه\n",
      "https://www.khabaronline.ir//news/1575536/%D8%B3%D9%87-%DA%AF%D8%B2%DB%8C%D9%86%D9%87-%D8%A7%DB%8C%D8%B1%D8%A7%D9%86-%D8%AF%D8%B1-%D8%A8%D8%B1%D8%AC%D8%A7%D9%85-%D8%AF%D8%B1-%D8%A2%D8%B3%D8%AA%D8%A7%D9%86%D9%87-%D9%85%D8%B0%D8%A7%DA%A9%D8%B1%D8%A7%D8%AA-%D9%88%DB%8C%D9%86-%D8%AF%D8%B1-%D9%87%D8%B4%D8%AA%D9%85-%D8%A2%D8%B0%D8%B1-%D9%85%D8%A7%D9%87\n",
      "https://www.khabaronline.ir//news/1575588/برنامه-حاج-محسن-در-دستان-ابراهیم-رئیسی-آیا-ایالت-های-اقتصادی\n",
      "https://www.khabaronline.ir//news/1575588/%D8%A8%D8%B1%D9%86%D8%A7%D9%85%D9%87-%D8%AD%D8%A7%D8%AC-%D9%85%D8%AD%D8%B3%D9%86-%D8%AF%D8%B1-%D8%AF%D8%B3%D8%AA%D8%A7%D9%86-%D8%A7%D8%A8%D8%B1%D8%A7%D9%87%DB%8C%D9%85-%D8%B1%D8%A6%DB%8C%D8%B3%DB%8C-%D8%A2%DB%8C%D8%A7-%D8%A7%DB%8C%D8%A7%D9%84%D8%AA-%D9%87%D8%A7%DB%8C-%D8%A7%D9%82%D8%AA%D8%B5%D8%A7%D8%AF%DB%8C\n",
      "https://www.khabaronline.ir/http://www.nastooh.ir\n"
     ]
    }
   ],
   "source": [
    "news_spider(1)"
   ]
  },
  {
   "cell_type": "code",
   "execution_count": null,
   "id": "38eae373",
   "metadata": {},
   "outputs": [],
   "source": []
  }
 ],
 "metadata": {
  "kernelspec": {
   "display_name": "Python 3",
   "language": "python",
   "name": "python3"
  },
  "language_info": {
   "codemirror_mode": {
    "name": "ipython",
    "version": 3
   },
   "file_extension": ".py",
   "mimetype": "text/x-python",
   "name": "python",
   "nbconvert_exporter": "python",
   "pygments_lexer": "ipython3",
   "version": "3.8.8"
  }
 },
 "nbformat": 4,
 "nbformat_minor": 5
}
