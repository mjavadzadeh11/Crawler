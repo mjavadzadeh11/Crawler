{
 "cells": [
  {
   "cell_type": "code",
   "execution_count": 23,
   "id": "fda23eeb",
   "metadata": {},
   "outputs": [],
   "source": [
    "import pandas as pd\n",
    "from bs4 import BeautifulSoup\n",
    "import requests\n"
   ]
  },
  {
   "cell_type": "code",
   "execution_count": 68,
   "id": "35399d61",
   "metadata": {},
   "outputs": [],
   "source": [
    "url = 'https://www.nytimes.com/section/politics'\n",
    "source = requests.get(url).text\n",
    "classifier = BeautifulSoup(source , 'lxml')\n",
    "News = pd.DataFrame(columns=['news_list','news_headline','news_pragraph'])\n",
    "for articles in classifier.find_all('div' , class_='css-1l4spti'):\n",
    "    \n",
    "    News['news_list']='https://www.nytimes.com/' + articles.a['href']\n",
    "    News['news_headline'] = articles.a.h2.text\n",
    "    News['news_pragraph'] = articles.a.p.text\n",
    "    "
   ]
  },
  {
   "cell_type": "code",
   "execution_count": 62,
   "id": "eeedd241",
   "metadata": {},
   "outputs": [],
   "source": [
    "link = 'https://www.nytimes.com/2021/11/30/us/politics/colombia-farc-us-terrorist-list.html'\n",
    "classifier1 = BeautifulSoup(requests.get(link).text , 'lxml')\n",
    "news=[]\n",
    "for context in classifier1.find_all('div', class_='css-53u6y8'):\n",
    "    for pragraph in context.find_all('p'):\n",
    "        news.append(pragraph.text)\n",
    "        \n",
    "news = ' '.join([str(elem) for elem in news])"
   ]
  },
  {
   "cell_type": "code",
   "execution_count": 64,
   "id": "a4cada24",
   "metadata": {},
   "outputs": [],
   "source": [
    "link = 'https://www.nytimes.com/2021/11/30/us/politics/colombia-farc-us-terrorist-list.html'\n",
    "classifier1 = BeautifulSoup(requests.get(link).text , 'lxml')\n",
    "news=[]\n",
    "for context in classifier1.find_all('p', class_='css-axufdj evys1bk0'):\n",
    "    \n",
    "    news.append(context.text)\n",
    "        \n",
    "news = ' '.join([str(elem) for elem in news])"
   ]
  },
  {
   "cell_type": "code",
   "execution_count": null,
   "id": "7797a794",
   "metadata": {},
   "outputs": [],
   "source": []
  }
 ],
 "metadata": {
  "kernelspec": {
   "display_name": "Python 3",
   "language": "python",
   "name": "python3"
  },
  "language_info": {
   "codemirror_mode": {
    "name": "ipython",
    "version": 3
   },
   "file_extension": ".py",
   "mimetype": "text/x-python",
   "name": "python",
   "nbconvert_exporter": "python",
   "pygments_lexer": "ipython3",
   "version": "3.8.8"
  }
 },
 "nbformat": 4,
 "nbformat_minor": 5
}
