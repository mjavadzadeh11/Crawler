{
 "cells": [
  {
   "cell_type": "code",
   "execution_count": 4,
   "id": "34a83002",
   "metadata": {},
   "outputs": [],
   "source": [
    "import requests\n",
    "from bs4 import BeautifulSoup\n",
    "import pandas as pd"
   ]
  },
  {
   "cell_type": "code",
   "execution_count": 38,
   "id": "eef6a579",
   "metadata": {},
   "outputs": [],
   "source": [
    "def news_spider(max_page):\n",
    "    page=1\n",
    "    while page<=max_page:\n",
    "        url = 'https://www.khabaronline.ir/archive?tp=%s' %(page)\n",
    "        source = requests.get(url)\n",
    "        text = source.text\n",
    "        classifer = BeautifulSoup(text)\n",
    "        news_list=[]\n",
    "        for links in classifer.findAll('a' , {'target':'_blank'}):\n",
    "            news_link='https://www.khabaronline.ir/'+ links.get('href')\n",
    "            news_list.append(news_link)\n",
    "            \n",
    "            \n",
    "            \n",
    "            \n",
    "        page+=1\n",
    "    plain_text=[]\n",
    "    for news in news_list: \n",
    "        news_m = requests.get(news).text\n",
    "        n_classifier = BeautifulSoup(news_m)\n",
    "        \n",
    "        for context in n_classifier.findAll('p'):\n",
    "            plain_text.append(context.string)\n",
    "            \n",
    "    return plain_text\n",
    "            \n",
    "            \n",
    "        \n",
    "    \n",
    "        \n",
    "    \n",
    "        \n",
    "        \n",
    "         \n",
    "        "
   ]
  },
  {
   "cell_type": "code",
   "execution_count": 40,
   "id": "3e6beecc",
   "metadata": {
    "scrolled": true
   },
   "outputs": [
    {
     "data": {
      "text/plain": [
       "'ابراهیم رئیسی، کاندیدای مورد تایید اکثریت اصولگرایان بود، او که در زمان کاندیدا شدن رئیس قوه قضاییه بود به واسطه عملکردش در این قوه توانست در دومین گام کاندیداتوری اش با حمایت اکثریت اصولگرایان و جالبتر حمایت برخی رقبایش به پاستور برسد.'"
      ]
     },
     "execution_count": 40,
     "metadata": {},
     "output_type": "execute_result"
    }
   ],
   "source": [
    "news_spider(1)[1]"
   ]
  },
  {
   "cell_type": "code",
   "execution_count": null,
   "id": "41595c33",
   "metadata": {},
   "outputs": [],
   "source": []
  }
 ],
 "metadata": {
  "kernelspec": {
   "display_name": "Python 3",
   "language": "python",
   "name": "python3"
  },
  "language_info": {
   "codemirror_mode": {
    "name": "ipython",
    "version": 3
   },
   "file_extension": ".py",
   "mimetype": "text/x-python",
   "name": "python",
   "nbconvert_exporter": "python",
   "pygments_lexer": "ipython3",
   "version": "3.8.8"
  }
 },
 "nbformat": 4,
 "nbformat_minor": 5
}
