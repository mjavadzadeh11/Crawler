{
  "nbformat": 4,
  "nbformat_minor": 0,
  "metadata": {
    "colab": {
      "name": "automate tradingview.ipynb",
      "provenance": [],
      "collapsed_sections": [],
      "mount_file_id": "1H8DGVb6852XoSu4OxOP_2XBNSChHd9LX",
      "authorship_tag": "ABX9TyOaQAFxjRpIt3Z/RchodLQe",
      "include_colab_link": true
    },
    "kernelspec": {
      "name": "python3",
      "display_name": "Python 3"
    },
    "language_info": {
      "name": "python"
    }
  },
  "cells": [
    {
      "cell_type": "markdown",
      "metadata": {
        "id": "view-in-github",
        "colab_type": "text"
      },
      "source": [
        "<a href=\"https://colab.research.google.com/github/mjavadzadeh11/Crawler/blob/master/automate_Tradingview_news.ipynb\" target=\"_parent\"><img src=\"https://colab.research.google.com/assets/colab-badge.svg\" alt=\"Open In Colab\"/></a>"
      ]
    },
    {
      "cell_type": "code",
      "execution_count": null,
      "metadata": {
        "id": "I3bhJJEwAq0v"
      },
      "outputs": [],
      "source": [
        "from bs4 import BeautifulSoup \n",
        "import requests \n",
        "import pandas as pd\n",
        "import datetime as dt\n",
        "import json\n",
        "import matplotlib.pyplot as plt\n",
        "#from newspaper import Article\n",
        "import nltk\n",
        "nltk.download('punkt')\n",
        "from textblob import TextBlob\n",
        "from csv import writer\n",
        "import time\n"
      ]
    },
    {
      "cell_type": "code",
      "source": [
        "url = \"https://www.tradingview.com/key-events/?market=crypto\"\n",
        "source = requests.get(url).text\n",
        "cf = BeautifulSoup(source , 'lxml')"
      ],
      "metadata": {
        "id": "ah8EwuwKAu7g"
      },
      "execution_count": null,
      "outputs": []
    },
    {
      "cell_type": "code",
      "source": [
        "while True:\n",
        "  \n",
        "  try:\n",
        "    with open('\\content\\News.csv' , 'a') as f:\n",
        "      wirter = writer(f)\n",
        "      for link in cf.find_all('a', class_='cardLink-117psRQF'):\n",
        "        \n",
        "        df_dict['Links'].append(link['href'])\n",
        "\n",
        "\n",
        "\n",
        "\n",
        "      \n",
        "\n",
        "    \n",
        "      \n",
        "      "
      ],
      "metadata": {
        "id": "1VYJ5x1WAwy_"
      },
      "execution_count": null,
      "outputs": []
    },
    {
      "cell_type": "code",
      "source": [
        "  except:\n",
        "    print('CSV file not found')\n",
        "    print(' ')\n",
        "    time.sleep(1)\n",
        "    print('connecting to tradingviews for collecting news... ')\n",
        "\n",
        "    #getting urls:\n",
        "    df_dict={'Symbol':[] , 'Date':[] , 'Headlines':[], 'Desc':[] , 'Links':[] , 'img_url':[]}\n",
        "    for link in cf.find_all('a', class_='cardLink-117psRQF'):\n",
        "      df_dict['Links'].append(link['href'])\n",
        "    #getting img urls:\n",
        "    for img in cf.find_all('div' , class_='imageWrapper-2Nz2Ij_B ratio2by1-1D2FG29r'):\n",
        "      df_dict['img_url'].append(img.img['src'])\n",
        "    #content of News : \n",
        "    for content in cf.find_all('div' , class_= 'content-117psRQF'):\n",
        "      df_dict['Symbol'].append(content.find('span', class_='symbolName-1fSAmU9b').text)\n",
        "      df_dict['Date'].append(content.find('span',class_='date-1fSAmU9b').text)\n",
        "      df_dict['Headlines'].append(content.find('div', class_='headline-1fSAmU9b').text)\n",
        "      df_dict['Desc'].append(content.find('div', class_='description-1fSAmU9b').text)\n",
        "    \n"
      ],
      "metadata": {
        "id": "SEZLvMSMJD0_"
      },
      "execution_count": null,
      "outputs": []
    },
    {
      "cell_type": "code",
      "source": [
        "    #change the type of date in tradingview\n",
        "    def norm_date(n):\n",
        "      ''' change trading view date formate to datetime'''\n",
        "      \n",
        "      months_dict={'Jan':1, 'Feb':2,'Mar':3,'Apr':4,'May':5, 'Jun':6, 'Jul':7,'Aug':8,'Sep':9,'Oct':10,'Nov':11,'Dec':12}\n",
        "      month=n.split(' ')[0]\n",
        "      month=months_dict[month]\n",
        "      year=dt.datetime.today().year\n",
        "      day=int(n.split(' ')[1])\n",
        "      return dt.date(year,month,day)\n",
        "\n",
        "    df_dict['Date'] = list(map(norm_date,df_dict['Date']))\n",
        "    \n",
        "    df=pd.DataFrame(df_dict)\n",
        "    df.set_index('Date', inplace=True)"
      ],
      "metadata": {
        "id": "Nk7JIdK6JaB0"
      },
      "execution_count": null,
      "outputs": []
    },
    {
      "cell_type": "code",
      "source": [
        "    def get_polarity(text):\n",
        "      return TextBlob(text).sentiment.polarity\n",
        "    title_polarity=df.loc[:,'Headlines'].apply(get_polarity)\n",
        "    desc_polarity=df.loc[:,'Desc'].apply(get_polarity)\n",
        "    df['Polarity']=(title_polarity+desc_polarity)/2"
      ],
      "metadata": {
        "id": "igre6iHXJfq2"
      },
      "execution_count": null,
      "outputs": []
    },
    {
      "cell_type": "code",
      "source": [
        "    df.to_csv('News.csv')"
      ],
      "metadata": {
        "id": "eri2l7dfJofv"
      },
      "execution_count": null,
      "outputs": []
    }
  ]
}